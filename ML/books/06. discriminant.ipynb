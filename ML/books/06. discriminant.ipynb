{
 "cells": [
  {
   "cell_type": "code",
   "execution_count": 4,
   "id": "9723276d",
   "metadata": {},
   "outputs": [
    {
     "name": "stdout",
     "output_type": "stream",
     "text": [
      "Requirement already satisfied: seaborn in d:\\python\\pythonproejct\\01. crawling\\studypython\\venv\\lib\\site-packages (0.11.2)\n",
      "Requirement already satisfied: matplotlib>=2.2 in d:\\python\\pythonproejct\\01. crawling\\studypython\\venv\\lib\\site-packages (from seaborn) (3.5.1)\n",
      "Requirement already satisfied: pandas>=0.23 in d:\\python\\pythonproejct\\01. crawling\\studypython\\venv\\lib\\site-packages (from seaborn) (1.4.0)\n",
      "Requirement already satisfied: scipy>=1.0 in d:\\python\\pythonproejct\\01. crawling\\studypython\\venv\\lib\\site-packages (from seaborn) (1.8.0)\n",
      "Requirement already satisfied: numpy>=1.15 in d:\\python\\pythonproejct\\01. crawling\\studypython\\venv\\lib\\site-packages (from seaborn) (1.22.2)\n",
      "Requirement already satisfied: cycler>=0.10 in d:\\python\\pythonproejct\\01. crawling\\studypython\\venv\\lib\\site-packages (from matplotlib>=2.2->seaborn) (0.11.0)\n",
      "Requirement already satisfied: python-dateutil>=2.7 in d:\\python\\pythonproejct\\01. crawling\\studypython\\venv\\lib\\site-packages (from matplotlib>=2.2->seaborn) (2.8.2)\n",
      "Requirement already satisfied: kiwisolver>=1.0.1 in d:\\python\\pythonproejct\\01. crawling\\studypython\\venv\\lib\\site-packages (from matplotlib>=2.2->seaborn) (1.3.2)\n",
      "Requirement already satisfied: pillow>=6.2.0 in d:\\python\\pythonproejct\\01. crawling\\studypython\\venv\\lib\\site-packages (from matplotlib>=2.2->seaborn) (9.0.1)\n",
      "Requirement already satisfied: pyparsing>=2.2.1 in d:\\python\\pythonproejct\\01. crawling\\studypython\\venv\\lib\\site-packages (from matplotlib>=2.2->seaborn) (3.0.7)\n",
      "Requirement already satisfied: fonttools>=4.22.0 in d:\\python\\pythonproejct\\01. crawling\\studypython\\venv\\lib\\site-packages (from matplotlib>=2.2->seaborn) (4.29.1)\n",
      "Requirement already satisfied: packaging>=20.0 in d:\\python\\pythonproejct\\01. crawling\\studypython\\venv\\lib\\site-packages (from matplotlib>=2.2->seaborn) (21.3)\n",
      "Requirement already satisfied: pytz>=2020.1 in d:\\python\\pythonproejct\\01. crawling\\studypython\\venv\\lib\\site-packages (from pandas>=0.23->seaborn) (2021.3)\n",
      "Requirement already satisfied: six>=1.5 in d:\\python\\pythonproejct\\01. crawling\\studypython\\venv\\lib\\site-packages (from python-dateutil>=2.7->matplotlib>=2.2->seaborn) (1.16.0)\n"
     ]
    },
    {
     "name": "stderr",
     "output_type": "stream",
     "text": [
      "WARNING: You are using pip version 20.2.2; however, version 22.0.4 is available.\n",
      "You should consider upgrading via the 'D:\\python\\pythonProejct\\01. Crawling\\studyPython\\venv\\Scripts\\python.exe -m pip install --upgrade pip' command.\n"
     ]
    },
    {
     "name": "stdout",
     "output_type": "stream",
     "text": [
      "Collecting scikit-learn\n",
      "  Downloading scikit_learn-1.0.2-cp38-cp38-win_amd64.whl (7.2 MB)\n",
      "Collecting threadpoolctl>=2.0.0\n",
      "  Using cached threadpoolctl-3.1.0-py3-none-any.whl (14 kB)\n",
      "Collecting joblib>=0.11\n",
      "  Using cached joblib-1.1.0-py2.py3-none-any.whl (306 kB)\n",
      "Requirement already satisfied: scipy>=1.1.0 in d:\\python\\pythonproejct\\01. crawling\\studypython\\venv\\lib\\site-packages (from scikit-learn) (1.8.0)\n",
      "Requirement already satisfied: numpy>=1.14.6 in d:\\python\\pythonproejct\\01. crawling\\studypython\\venv\\lib\\site-packages (from scikit-learn) (1.22.2)\n",
      "Installing collected packages: threadpoolctl, joblib, scikit-learn\n",
      "Successfully installed joblib-1.1.0 scikit-learn-1.0.2 threadpoolctl-3.1.0\n"
     ]
    },
    {
     "name": "stderr",
     "output_type": "stream",
     "text": [
      "WARNING: You are using pip version 20.2.2; however, version 22.0.4 is available.\n",
      "You should consider upgrading via the 'D:\\python\\pythonProejct\\01. Crawling\\studyPython\\venv\\Scripts\\python.exe -m pip install --upgrade pip' command.\n"
     ]
    }
   ],
   "source": [
    "!pip install seaborn\n",
    "!pip install scikit-learn"
   ]
  },
  {
   "cell_type": "code",
   "execution_count": 6,
   "id": "681a34aa",
   "metadata": {},
   "outputs": [],
   "source": [
    "# 수식을 이해할 필요는 없음, 제공된 그림만 보고 원리를 이해\n",
    "# 선형판별분석(LDA) => 선형판별함수(1차 함수)를 이용하여 목표변수의 범주를 판별\n",
    "# 데이터 로드 및 특성변수 와 목적변수 분리\n",
    "import seaborn as sns\n",
    "iris = sns.load_dataset('iris')\n",
    "X = iris.drop('species', axis=1)\n",
    "y = iris['species']\n",
    "\n",
    "# 목적변수 클래스 범주화\n",
    "from sklearn.preprocessing import LabelEncoder\n",
    "classle = LabelEncoder()\n",
    "y = classle.fit_transform(iris['species'].values)\n",
    "\n",
    "# 학습 데이터와 테스트 데이터 분리\n",
    "from sklearn.model_selection import train_test_split\n",
    "X_train, X_test, y_train, y_test = train_test_split(X, y, test_size = 0.3, random_state = 123, stratify = y)"
   ]
  },
  {
   "cell_type": "code",
   "execution_count": 10,
   "id": "c5ec8e95",
   "metadata": {},
   "outputs": [
    {
     "name": "stdout",
     "output_type": "stream",
     "text": [
      "0.9714285714285714\n",
      "0.9777777777777777\n"
     ]
    }
   ],
   "source": [
    "# 선형 판별분석 사용\n",
    "from sklearn.discriminant_analysis import LinearDiscriminantAnalysis\n",
    "cld = LinearDiscriminantAnalysis(store_covariance = True)\n",
    "cld.fit(X_train, y_train) # LDA 적합\n",
    "y_train_pred = cld.predict(X_train)\n",
    "y_test_pred  = cld.predict(X_test)\n",
    "\n",
    "# 학습 모델 검증\n",
    "from sklearn.metrics import accuracy_score\n",
    "print(accuracy_score(y_train, y_train_pred))\n",
    "print(accuracy_score(y_test , y_test_pred))"
   ]
  },
  {
   "cell_type": "code",
   "execution_count": 11,
   "id": "05a81d41",
   "metadata": {},
   "outputs": [
    {
     "name": "stdout",
     "output_type": "stream",
     "text": [
      "[[5.04285714 3.43428571 1.48857143 0.26571429]\n",
      " [5.89714286 2.76       4.22857143 1.3       ]\n",
      " [6.51714286 2.92857143 5.49142857 2.00285714]]\n",
      "[5.81904762 3.04095238 3.73619048 1.18952381]\n",
      "[[0.24214422 0.09216599 0.13204898 0.03123537]\n",
      " [0.09216599 0.11137415 0.05049796 0.03388844]\n",
      " [0.13204898 0.05049796 0.15023129 0.03387755]\n",
      " [0.03123537 0.03388844 0.03387755 0.04198639]]\n",
      "[ -7.59067635  -5.09049202 -43.13606185]\n",
      "[[  3.76019999  15.13062424 -17.99406267 -21.86481204]\n",
      " [ -0.91185753  -4.90401617   4.9041086    3.23562397]\n",
      " [ -2.84834246 -10.22660807  13.08995407  18.62918807]]\n"
     ]
    }
   ],
   "source": [
    "# LDA의 클래스별 판별식 구하기\n",
    "# 특성변수의 평균추정치, 전체 평균추정치, 분산추정치, bias, 계수추정치\n",
    "# ex) 첫 번째 클래스 판별식 = -7.59 + 3.76*sepal_length + 15.13*sepal_width - 17.99*petal_length - 21.86*petal_width\n",
    "print(cld.means_)\n",
    "print(cld.xbar_)\n",
    "print(cld.covariance_)\n",
    "print(cld.intercept_)\n",
    "print(cld.coef_)"
   ]
  },
  {
   "cell_type": "code",
   "execution_count": 14,
   "id": "2143d159",
   "metadata": {},
   "outputs": [
    {
     "name": "stdout",
     "output_type": "stream",
     "text": [
      "[[15  0  0]\n",
      " [ 0 14  1]\n",
      " [ 0  0 15]]\n"
     ]
    }
   ],
   "source": [
    "# 시험 데이터 분류 결과\n",
    "from sklearn.metrics import confusion_matrix\n",
    "print(confusion_matrix(y_test, y_test_pred))"
   ]
  },
  {
   "cell_type": "code",
   "execution_count": 16,
   "id": "498b0b3f",
   "metadata": {},
   "outputs": [
    {
     "name": "stdout",
     "output_type": "stream",
     "text": [
      "[[1.37493315e-32 5.86839618e-01 4.13160382e-01]\n",
      " [4.87880054e-42 4.08368248e-04 9.99591632e-01]\n",
      " [1.49908347e-19 9.99998532e-01 1.46841688e-06]\n",
      " [2.45317549e-24 9.97417042e-01 2.58295753e-03]\n",
      " [1.76506456e-50 1.80298359e-07 9.99999820e-01]]\n"
     ]
    }
   ],
   "source": [
    "# 테스트 데이터 5개의 클래스별 확률\n",
    "print(cld.predict_proba(X_test[:5]))"
   ]
  },
  {
   "cell_type": "code",
   "execution_count": 17,
   "id": "5a30dea4",
   "metadata": {},
   "outputs": [
    {
     "name": "stdout",
     "output_type": "stream",
     "text": [
      "0.9809523809523809\n",
      "0.9777777777777777\n"
     ]
    }
   ],
   "source": [
    "# 이차판별분석\n",
    "# 이차판별분석(QDA) => 이차판별함수(2차 함수)를 이용해 목표변수 y의 범주를 판별하는 것\n",
    "from sklearn.discriminant_analysis import QuadraticDiscriminantAnalysis\n",
    "\n",
    "cqd = QuadraticDiscriminantAnalysis()\n",
    "cqd.fit(X_train, y_train) # QDA 적합(학습)\n",
    "y_train_pred = cqd.predict(X_train)\n",
    "y_test_pred  = cqd.predict(X_test)\n",
    "\n",
    "# 모델 검증\n",
    "from sklearn.metrics import accuracy_score\n",
    "print(accuracy_score(y_train, y_train_pred))\n",
    "print(accuracy_score(y_test,  y_test_pred))"
   ]
  },
  {
   "cell_type": "code",
   "execution_count": 18,
   "id": "db67211e",
   "metadata": {},
   "outputs": [
    {
     "name": "stdout",
     "output_type": "stream",
     "text": [
      "[[15  0  0]\n",
      " [ 0 14  1]\n",
      " [ 0  0 15]]\n"
     ]
    }
   ],
   "source": [
    "from sklearn.metrics import confusion_matrix\n",
    "print(confusion_matrix(y_test, y_test_pred))"
   ]
  },
  {
   "cell_type": "code",
   "execution_count": 22,
   "id": "bd8ecbeb",
   "metadata": {},
   "outputs": [
    {
     "name": "stdout",
     "output_type": "stream",
     "text": [
      "[[0 2 0]\n",
      " [1 2 2]\n",
      " [4 4 2]\n",
      " [4 2 3]\n",
      " [2 0 4]\n",
      " [1 0 3]]\n"
     ]
    }
   ],
   "source": [
    "# 다항단순베이즈모형을 적용하기 위한 예제 생성\n",
    "\n",
    "import numpy as np\n",
    "X= np.random.randint(5, size=(6, 20)) # 표본 개수 6, 특성변수 개수 20, 특성 변수의 값은 0 ~ 4 랜덤\n",
    "y= np.array([1,2,3,4,5,6])\n",
    "print(X[:,:3])"
   ]
  },
  {
   "cell_type": "code",
   "execution_count": 27,
   "id": "f836dc98",
   "metadata": {},
   "outputs": [
    {
     "name": "stdout",
     "output_type": "stream",
     "text": [
      "[2]\n"
     ]
    }
   ],
   "source": [
    "# 다항단순베이즈모형 MultinomialNB\n",
    "from sklearn.naive_bayes import MultinomialNB\n",
    "mnb = MultinomialNB()\n",
    "mnb.fit(X, y)\n",
    "print(mnb.predict(X[1:2,]))\n"
   ]
  },
  {
   "cell_type": "code",
   "execution_count": 31,
   "id": "faed1386",
   "metadata": {},
   "outputs": [
    {
     "name": "stdout",
     "output_type": "stream",
     "text": [
      "(1797, 8, 8)\n"
     ]
    },
    {
     "data": {
      "text/plain": [
       "array([[ 0.,  0.,  5., 13.,  9.,  1.,  0.,  0.],\n",
       "       [ 0.,  0., 13., 15., 10., 15.,  5.,  0.],\n",
       "       [ 0.,  3., 15.,  2.,  0., 11.,  8.,  0.],\n",
       "       [ 0.,  4., 12.,  0.,  0.,  8.,  8.,  0.],\n",
       "       [ 0.,  5.,  8.,  0.,  0.,  9.,  8.,  0.],\n",
       "       [ 0.,  4., 11.,  0.,  1., 12.,  7.,  0.],\n",
       "       [ 0.,  2., 14.,  5., 10., 12.,  0.,  0.],\n",
       "       [ 0.,  0.,  6., 13., 10.,  0.,  0.,  0.]])"
      ]
     },
     "execution_count": 31,
     "metadata": {},
     "output_type": "execute_result"
    }
   ],
   "source": [
    "# 새로운 데이터 셋 다운로드 1797개의 표본 64(8*8)개의 특성 변수\n",
    "from sklearn.datasets import load_digits\n",
    "\n",
    "digits = load_digits()\n",
    "print(digits.images.shape)\n",
    "digits.images[0]"
   ]
  },
  {
   "cell_type": "code",
   "execution_count": 33,
   "id": "4e8bde07",
   "metadata": {},
   "outputs": [
    {
     "data": {
      "image/png": "[encoded data removed]",
      "text/plain": [
       "<Figure size 1296x576 with 100 Axes>"
      ]
     },
     "metadata": {},
     "output_type": "display_data"
    }
   ],
   "source": [
    "import matplotlib.pyplot as plt\n",
    "fig, axes = plt.subplots(10, 10, figsize=(18, 8), subplot_kw={'xticks':[], 'yticks':[]},\n",
    "                        gridspec_kw=dict(hspace=0.1, wspace=0.1))\n",
    "for i, ax in enumerate(axes.flat):\n",
    "    ax.imshow(digits.images[i], cmap='binary', interpolation='nearest')\n",
    "    ax.text(0.05, 0.05, str(digits.target[i]), transform=ax.transAxes, color='green')"
   ]
  },
  {
   "cell_type": "code",
   "execution_count": 34,
   "id": "0fa56ac0",
   "metadata": {},
   "outputs": [
    {
     "name": "stdout",
     "output_type": "stream",
     "text": [
      "(1797, 64)\n",
      "(1797,)\n"
     ]
    }
   ],
   "source": [
    "# 3차원 데이터를 2차원으로 줄이는 작업을 해야되나 digits에서 해당데이터(8*8 => 64)를 제공\n",
    "X=digits.data \n",
    "y=digits.target\n",
    "print(X.shape)\n",
    "print(y.shape)"
   ]
  },
  {
   "cell_type": "code",
   "execution_count": 35,
   "id": "4d15817f",
   "metadata": {},
   "outputs": [
    {
     "name": "stdout",
     "output_type": "stream",
     "text": [
      "0.8333333333333334\n"
     ]
    }
   ],
   "source": [
    "# 정규단순베이즈 모형(GaussianNB)\n",
    "\n",
    "# 학습 데이터와 테스트 데이터 분리\n",
    "from sklearn.model_selection import train_test_split\n",
    "X_train, X_test, y_train, y_test = train_test_split(X, y, test_size=0.25, random_state=0)\n",
    "\n",
    "# 학습모델 적용(정규단순베이즈)\n",
    "from sklearn.naive_bayes import GaussianNB\n",
    "gnb = GaussianNB()\n",
    "gnb.fit(X_train, y_train)\n",
    "y_test_pred = gnb.predict(X_test)\n",
    "\n",
    "from sklearn.metrics import accuracy_score\n",
    "print(accuracy_score(y_test, y_test_pred))"
   ]
  },
  {
   "cell_type": "code",
   "execution_count": 36,
   "id": "81ae0619",
   "metadata": {},
   "outputs": [
    {
     "name": "stdout",
     "output_type": "stream",
     "text": [
      "[[37  0  0  0  0  0  0  0  0  0]\n",
      " [ 0 39  0  0  0  0  0  0  4  0]\n",
      " [ 0  7 20  2  0  0  0  0 15  0]\n",
      " [ 0  0  0 39  0  0  0  1  5  0]\n",
      " [ 0  1  0  0 31  0  0  6  0  0]\n",
      " [ 0  1  0  1  0 43  0  3  0  0]\n",
      " [ 0  0  1  0  0  0 51  0  0  0]\n",
      " [ 0  0  0  0  1  0  0 47  0  0]\n",
      " [ 0  6  0  1  0  1  0  2 38  0]\n",
      " [ 0  2  0  4  1  0  0  3  7 30]]\n"
     ]
    }
   ],
   "source": [
    "from sklearn.metrics import confusion_matrix\n",
    "mat=confusion_matrix(y_test, y_test_pred)\n",
    "print(mat)"
   ]
  },
  {
   "cell_type": "code",
   "execution_count": 37,
   "id": "2e999205",
   "metadata": {},
   "outputs": [
    {
     "data": {
      "text/plain": [
       "0.9088888888888889"
      ]
     },
     "execution_count": 37,
     "metadata": {},
     "output_type": "execute_result"
    }
   ],
   "source": [
    "# 다항단순베이즈모형 MultinomialNB\n",
    "from sklearn.naive_bayes import MultinomialNB\n",
    "mnb = MultinomialNB()\n",
    "mnb.fit(X_train, y_train)\n",
    "y_mnb_pred = mnb.predict(X_test)\n",
    "accuracy_score(y_test, y_mnb_pred)"
   ]
  }
 ],
 "metadata": {
  "kernelspec": {
   "display_name": "Python 3 (ipykernel)",
   "language": "python",
   "name": "python3"
  },
  "language_info": {
   "codemirror_mode": {
    "name": "ipython",
    "version": 3
   },
   "file_extension": ".py",
   "mimetype": "text/x-python",
   "name": "python",
   "nbconvert_exporter": "python",
   "pygments_lexer": "ipython3",
   "version": "3.8.2"
  }
 },
 "nbformat": 4,
 "nbformat_minor": 5
}
